{
 "cells": [
  {
   "cell_type": "code",
   "execution_count": 4,
   "metadata": {},
   "outputs": [
    {
     "name": "stdout",
     "output_type": "stream",
     "text": [
      "1.2.4\n"
     ]
    }
   ],
   "source": [
    "#!/usr/bin/env python3\r\n",
    "import pandas as pd\r\n",
    "import math\r\n",
    "import numpy as np\r\n",
    "from matplotlib import pyplot as plt\r\n",
    "from mpl_toolkits import mplot3d\r\n",
    "\r\n",
    "print(pd.__version__)"
   ]
  },
  {
   "cell_type": "code",
   "execution_count": 5,
   "metadata": {},
   "outputs": [
    {
     "data": {
      "text/html": [
       "<div>\n",
       "<style scoped>\n",
       "    .dataframe tbody tr th:only-of-type {\n",
       "        vertical-align: middle;\n",
       "    }\n",
       "\n",
       "    .dataframe tbody tr th {\n",
       "        vertical-align: top;\n",
       "    }\n",
       "\n",
       "    .dataframe thead th {\n",
       "        text-align: right;\n",
       "    }\n",
       "</style>\n",
       "<table border=\"1\" class=\"dataframe\">\n",
       "  <thead>\n",
       "    <tr style=\"text-align: right;\">\n",
       "      <th></th>\n",
       "      <th>0</th>\n",
       "    </tr>\n",
       "  </thead>\n",
       "  <tbody>\n",
       "    <tr>\n",
       "      <th>0</th>\n",
       "      <td>1372638303,-8.587116,41.162427,-8.586198,41.16...</td>\n",
       "    </tr>\n",
       "    <tr>\n",
       "      <th>1</th>\n",
       "      <td>1372646650,-8.6103,41.153688,-8.610336,41.1536...</td>\n",
       "    </tr>\n",
       "    <tr>\n",
       "      <th>2</th>\n",
       "      <td>1372645583,-8.591301,41.156163,-8.592651,41.15...</td>\n",
       "    </tr>\n",
       "    <tr>\n",
       "      <th>3</th>\n",
       "      <td>1372651427,-8.610291,41.153625,-8.61093,41.153...</td>\n",
       "    </tr>\n",
       "    <tr>\n",
       "      <th>4</th>\n",
       "      <td>1372652856,-8.61372,41.148414,-8.614287,41.148...</td>\n",
       "    </tr>\n",
       "  </tbody>\n",
       "</table>\n",
       "</div>"
      ],
      "text/plain": [
       "                                                   0\n",
       "0  1372638303,-8.587116,41.162427,-8.586198,41.16...\n",
       "1  1372646650,-8.6103,41.153688,-8.610336,41.1536...\n",
       "2  1372645583,-8.591301,41.156163,-8.592651,41.15...\n",
       "3  1372651427,-8.610291,41.153625,-8.61093,41.153...\n",
       "4  1372652856,-8.61372,41.148414,-8.614287,41.148..."
      ]
     },
     "execution_count": 5,
     "metadata": {},
     "output_type": "execute_result"
    }
   ],
   "source": [
    "df_rows = pd.read_csv(\"./taxi_dataset/training_data_simple.csv\", sep='\\n', nrows=5, header=None)\r\n",
    "df_rows"
   ]
  },
  {
   "cell_type": "code",
   "execution_count": 6,
   "metadata": {},
   "outputs": [
    {
     "data": {
      "text/html": [
       "<div>\n",
       "<style scoped>\n",
       "    .dataframe tbody tr th:only-of-type {\n",
       "        vertical-align: middle;\n",
       "    }\n",
       "\n",
       "    .dataframe tbody tr th {\n",
       "        vertical-align: top;\n",
       "    }\n",
       "\n",
       "    .dataframe thead th {\n",
       "        text-align: right;\n",
       "    }\n",
       "</style>\n",
       "<table border=\"1\" class=\"dataframe\">\n",
       "  <thead>\n",
       "    <tr style=\"text-align: right;\">\n",
       "      <th></th>\n",
       "      <th>0</th>\n",
       "      <th>1</th>\n",
       "      <th>2</th>\n",
       "      <th>3</th>\n",
       "      <th>4</th>\n",
       "      <th>5</th>\n",
       "      <th>6</th>\n",
       "      <th>7</th>\n",
       "      <th>8</th>\n",
       "      <th>9</th>\n",
       "      <th>...</th>\n",
       "      <th>663</th>\n",
       "      <th>664</th>\n",
       "      <th>665</th>\n",
       "      <th>666</th>\n",
       "      <th>667</th>\n",
       "      <th>668</th>\n",
       "      <th>669</th>\n",
       "      <th>670</th>\n",
       "      <th>671</th>\n",
       "      <th>672</th>\n",
       "    </tr>\n",
       "  </thead>\n",
       "  <tbody>\n",
       "    <tr>\n",
       "      <th>0</th>\n",
       "      <td>1372638303</td>\n",
       "      <td>-8.587116</td>\n",
       "      <td>41.162427</td>\n",
       "      <td>-8.586198</td>\n",
       "      <td>41.162112</td>\n",
       "      <td>-8.585982</td>\n",
       "      <td>41.161338</td>\n",
       "      <td>-8.585037</td>\n",
       "      <td>41.160024</td>\n",
       "      <td>-8.584146</td>\n",
       "      <td>...</td>\n",
       "      <td></td>\n",
       "      <td></td>\n",
       "      <td></td>\n",
       "      <td></td>\n",
       "      <td></td>\n",
       "      <td></td>\n",
       "      <td></td>\n",
       "      <td></td>\n",
       "      <td></td>\n",
       "      <td></td>\n",
       "    </tr>\n",
       "    <tr>\n",
       "      <th>1</th>\n",
       "      <td>1372646650</td>\n",
       "      <td>-8.6103</td>\n",
       "      <td>41.153688</td>\n",
       "      <td>-8.610336</td>\n",
       "      <td>41.153679</td>\n",
       "      <td>-8.610192</td>\n",
       "      <td>41.154039</td>\n",
       "      <td>-8.609985</td>\n",
       "      <td>41.154759</td>\n",
       "      <td>-8.609931</td>\n",
       "      <td>...</td>\n",
       "      <td></td>\n",
       "      <td></td>\n",
       "      <td></td>\n",
       "      <td></td>\n",
       "      <td></td>\n",
       "      <td></td>\n",
       "      <td></td>\n",
       "      <td></td>\n",
       "      <td></td>\n",
       "      <td></td>\n",
       "    </tr>\n",
       "    <tr>\n",
       "      <th>2</th>\n",
       "      <td>1372645583</td>\n",
       "      <td>-8.591301</td>\n",
       "      <td>41.156163</td>\n",
       "      <td>-8.592651</td>\n",
       "      <td>41.156163</td>\n",
       "      <td>-8.594415</td>\n",
       "      <td>41.156298</td>\n",
       "      <td>-8.594451</td>\n",
       "      <td>41.156316</td>\n",
       "      <td>-8.59446</td>\n",
       "      <td>...</td>\n",
       "      <td></td>\n",
       "      <td></td>\n",
       "      <td></td>\n",
       "      <td></td>\n",
       "      <td></td>\n",
       "      <td></td>\n",
       "      <td></td>\n",
       "      <td></td>\n",
       "      <td></td>\n",
       "      <td></td>\n",
       "    </tr>\n",
       "    <tr>\n",
       "      <th>3</th>\n",
       "      <td>1372651427</td>\n",
       "      <td>-8.610291</td>\n",
       "      <td>41.153625</td>\n",
       "      <td>-8.61093</td>\n",
       "      <td>41.153643</td>\n",
       "      <td>-8.611965</td>\n",
       "      <td>41.153859</td>\n",
       "      <td>-8.611938</td>\n",
       "      <td>41.154651</td>\n",
       "      <td>-8.611884</td>\n",
       "      <td>...</td>\n",
       "      <td></td>\n",
       "      <td></td>\n",
       "      <td></td>\n",
       "      <td></td>\n",
       "      <td></td>\n",
       "      <td></td>\n",
       "      <td></td>\n",
       "      <td></td>\n",
       "      <td></td>\n",
       "      <td></td>\n",
       "    </tr>\n",
       "    <tr>\n",
       "      <th>4</th>\n",
       "      <td>1372652856</td>\n",
       "      <td>-8.61372</td>\n",
       "      <td>41.148414</td>\n",
       "      <td>-8.614287</td>\n",
       "      <td>41.148414</td>\n",
       "      <td>-8.614431</td>\n",
       "      <td>41.148387</td>\n",
       "      <td>-8.614845</td>\n",
       "      <td>41.147451</td>\n",
       "      <td>-8.614872</td>\n",
       "      <td>...</td>\n",
       "      <td></td>\n",
       "      <td></td>\n",
       "      <td></td>\n",
       "      <td></td>\n",
       "      <td></td>\n",
       "      <td></td>\n",
       "      <td></td>\n",
       "      <td></td>\n",
       "      <td></td>\n",
       "      <td></td>\n",
       "    </tr>\n",
       "  </tbody>\n",
       "</table>\n",
       "<p>5 rows × 673 columns</p>\n",
       "</div>"
      ],
      "text/plain": [
       "          0          1          2          3          4          5    \\\n",
       "0  1372638303  -8.587116  41.162427  -8.586198  41.162112  -8.585982   \n",
       "1  1372646650    -8.6103  41.153688  -8.610336  41.153679  -8.610192   \n",
       "2  1372645583  -8.591301  41.156163  -8.592651  41.156163  -8.594415   \n",
       "3  1372651427  -8.610291  41.153625   -8.61093  41.153643  -8.611965   \n",
       "4  1372652856   -8.61372  41.148414  -8.614287  41.148414  -8.614431   \n",
       "\n",
       "         6          7          8          9    ... 663 664 665 666 667 668  \\\n",
       "0  41.161338  -8.585037  41.160024  -8.584146  ...                           \n",
       "1  41.154039  -8.609985  41.154759  -8.609931  ...                           \n",
       "2  41.156298  -8.594451  41.156316   -8.59446  ...                           \n",
       "3  41.153859  -8.611938  41.154651  -8.611884  ...                           \n",
       "4  41.148387  -8.614845  41.147451  -8.614872  ...                           \n",
       "\n",
       "  669 670 671 672  \n",
       "0                  \n",
       "1                  \n",
       "2                  \n",
       "3                  \n",
       "4                  \n",
       "\n",
       "[5 rows x 673 columns]"
      ]
     },
     "execution_count": 6,
     "metadata": {},
     "output_type": "execute_result"
    }
   ],
   "source": [
    "df = df_rows[0].str.split(',', expand=True)\r\n",
    "df"
   ]
  },
  {
   "cell_type": "code",
   "execution_count": 7,
   "metadata": {},
   "outputs": [
    {
     "data": {
      "text/html": [
       "<div>\n",
       "<style scoped>\n",
       "    .dataframe tbody tr th:only-of-type {\n",
       "        vertical-align: middle;\n",
       "    }\n",
       "\n",
       "    .dataframe tbody tr th {\n",
       "        vertical-align: top;\n",
       "    }\n",
       "\n",
       "    .dataframe thead th {\n",
       "        text-align: right;\n",
       "    }\n",
       "</style>\n",
       "<table border=\"1\" class=\"dataframe\">\n",
       "  <thead>\n",
       "    <tr style=\"text-align: right;\">\n",
       "      <th></th>\n",
       "      <th>0</th>\n",
       "      <th>1</th>\n",
       "      <th>2</th>\n",
       "      <th>3</th>\n",
       "      <th>4</th>\n",
       "      <th>5</th>\n",
       "      <th>6</th>\n",
       "    </tr>\n",
       "  </thead>\n",
       "  <tbody>\n",
       "    <tr>\n",
       "      <th>0</th>\n",
       "      <td>1372638303</td>\n",
       "      <td>-8.587116</td>\n",
       "      <td>41.162427</td>\n",
       "      <td>-8.586198</td>\n",
       "      <td>41.162112</td>\n",
       "      <td>-8.585982</td>\n",
       "      <td>41.161338</td>\n",
       "    </tr>\n",
       "    <tr>\n",
       "      <th>1</th>\n",
       "      <td>1372646650</td>\n",
       "      <td>-8.6103</td>\n",
       "      <td>41.153688</td>\n",
       "      <td>-8.610336</td>\n",
       "      <td>41.153679</td>\n",
       "      <td>-8.610192</td>\n",
       "      <td>41.154039</td>\n",
       "    </tr>\n",
       "    <tr>\n",
       "      <th>2</th>\n",
       "      <td>1372645583</td>\n",
       "      <td>-8.591301</td>\n",
       "      <td>41.156163</td>\n",
       "      <td>-8.592651</td>\n",
       "      <td>41.156163</td>\n",
       "      <td>-8.594415</td>\n",
       "      <td>41.156298</td>\n",
       "    </tr>\n",
       "    <tr>\n",
       "      <th>3</th>\n",
       "      <td>1372651427</td>\n",
       "      <td>-8.610291</td>\n",
       "      <td>41.153625</td>\n",
       "      <td>-8.61093</td>\n",
       "      <td>41.153643</td>\n",
       "      <td>-8.611965</td>\n",
       "      <td>41.153859</td>\n",
       "    </tr>\n",
       "    <tr>\n",
       "      <th>4</th>\n",
       "      <td>1372652856</td>\n",
       "      <td>-8.61372</td>\n",
       "      <td>41.148414</td>\n",
       "      <td>-8.614287</td>\n",
       "      <td>41.148414</td>\n",
       "      <td>-8.614431</td>\n",
       "      <td>41.148387</td>\n",
       "    </tr>\n",
       "  </tbody>\n",
       "</table>\n",
       "</div>"
      ],
      "text/plain": [
       "            0          1          2          3          4          5  \\\n",
       "0  1372638303  -8.587116  41.162427  -8.586198  41.162112  -8.585982   \n",
       "1  1372646650    -8.6103  41.153688  -8.610336  41.153679  -8.610192   \n",
       "2  1372645583  -8.591301  41.156163  -8.592651  41.156163  -8.594415   \n",
       "3  1372651427  -8.610291  41.153625   -8.61093  41.153643  -8.611965   \n",
       "4  1372652856   -8.61372  41.148414  -8.614287  41.148414  -8.614431   \n",
       "\n",
       "           6  \n",
       "0  41.161338  \n",
       "1  41.154039  \n",
       "2  41.156298  \n",
       "3  41.153859  \n",
       "4  41.148387  "
      ]
     },
     "execution_count": 7,
     "metadata": {},
     "output_type": "execute_result"
    }
   ],
   "source": [
    "df = df.iloc[:7,:7]\r\n",
    "df"
   ]
  },
  {
   "cell_type": "code",
   "execution_count": 8,
   "metadata": {},
   "outputs": [
    {
     "name": "stdout",
     "output_type": "stream",
     "text": [
      "Index(['start_time', 'lon_1', 'lat_1', 'lon_2', 'lat_2', 'lon_3', 'lat_3'], dtype='object')\n"
     ]
    },
    {
     "data": {
      "text/html": [
       "<div>\n",
       "<style scoped>\n",
       "    .dataframe tbody tr th:only-of-type {\n",
       "        vertical-align: middle;\n",
       "    }\n",
       "\n",
       "    .dataframe tbody tr th {\n",
       "        vertical-align: top;\n",
       "    }\n",
       "\n",
       "    .dataframe thead th {\n",
       "        text-align: right;\n",
       "    }\n",
       "</style>\n",
       "<table border=\"1\" class=\"dataframe\">\n",
       "  <thead>\n",
       "    <tr style=\"text-align: right;\">\n",
       "      <th></th>\n",
       "      <th>start_time</th>\n",
       "      <th>lon_1</th>\n",
       "      <th>lat_1</th>\n",
       "      <th>lon_2</th>\n",
       "      <th>lat_2</th>\n",
       "      <th>lon_3</th>\n",
       "      <th>lat_3</th>\n",
       "    </tr>\n",
       "  </thead>\n",
       "  <tbody>\n",
       "    <tr>\n",
       "      <th>0</th>\n",
       "      <td>1372638303</td>\n",
       "      <td>-8.587116</td>\n",
       "      <td>41.162427</td>\n",
       "      <td>-8.586198</td>\n",
       "      <td>41.162112</td>\n",
       "      <td>-8.585982</td>\n",
       "      <td>41.161338</td>\n",
       "    </tr>\n",
       "    <tr>\n",
       "      <th>1</th>\n",
       "      <td>1372646650</td>\n",
       "      <td>-8.6103</td>\n",
       "      <td>41.153688</td>\n",
       "      <td>-8.610336</td>\n",
       "      <td>41.153679</td>\n",
       "      <td>-8.610192</td>\n",
       "      <td>41.154039</td>\n",
       "    </tr>\n",
       "    <tr>\n",
       "      <th>2</th>\n",
       "      <td>1372645583</td>\n",
       "      <td>-8.591301</td>\n",
       "      <td>41.156163</td>\n",
       "      <td>-8.592651</td>\n",
       "      <td>41.156163</td>\n",
       "      <td>-8.594415</td>\n",
       "      <td>41.156298</td>\n",
       "    </tr>\n",
       "    <tr>\n",
       "      <th>3</th>\n",
       "      <td>1372651427</td>\n",
       "      <td>-8.610291</td>\n",
       "      <td>41.153625</td>\n",
       "      <td>-8.61093</td>\n",
       "      <td>41.153643</td>\n",
       "      <td>-8.611965</td>\n",
       "      <td>41.153859</td>\n",
       "    </tr>\n",
       "    <tr>\n",
       "      <th>4</th>\n",
       "      <td>1372652856</td>\n",
       "      <td>-8.61372</td>\n",
       "      <td>41.148414</td>\n",
       "      <td>-8.614287</td>\n",
       "      <td>41.148414</td>\n",
       "      <td>-8.614431</td>\n",
       "      <td>41.148387</td>\n",
       "    </tr>\n",
       "  </tbody>\n",
       "</table>\n",
       "</div>"
      ],
      "text/plain": [
       "   start_time      lon_1      lat_1      lon_2      lat_2      lon_3  \\\n",
       "0  1372638303  -8.587116  41.162427  -8.586198  41.162112  -8.585982   \n",
       "1  1372646650    -8.6103  41.153688  -8.610336  41.153679  -8.610192   \n",
       "2  1372645583  -8.591301  41.156163  -8.592651  41.156163  -8.594415   \n",
       "3  1372651427  -8.610291  41.153625   -8.61093  41.153643  -8.611965   \n",
       "4  1372652856   -8.61372  41.148414  -8.614287  41.148414  -8.614431   \n",
       "\n",
       "       lat_3  \n",
       "0  41.161338  \n",
       "1  41.154039  \n",
       "2  41.156298  \n",
       "3  41.153859  \n",
       "4  41.148387  "
      ]
     },
     "execution_count": 8,
     "metadata": {},
     "output_type": "execute_result"
    }
   ],
   "source": [
    "df.columns = [\"start_time\", \"lon_1\", \"lat_1\", \"lon_2\", \"lat_2\", \"lon_3\", \"lat_3\"]\r\n",
    "print(df.columns)\r\n",
    "df"
   ]
  },
  {
   "cell_type": "code",
   "execution_count": 9,
   "metadata": {},
   "outputs": [
    {
     "name": "stdout",
     "output_type": "stream",
     "text": [
      "                     0           1           2           3           4\n",
      "start_time  1372638303  1372646650  1372645583  1372651427  1372652856\n",
      "lon_1        -8.587116     -8.6103   -8.591301   -8.610291    -8.61372\n",
      "lat_1        41.162427   41.153688   41.156163   41.153625   41.148414\n",
      "lon_2        -8.586198   -8.610336   -8.592651    -8.61093   -8.614287\n",
      "lat_2        41.162112   41.153679   41.156163   41.153643   41.148414\n",
      "lon_3        -8.585982   -8.610192   -8.594415   -8.611965   -8.614431\n",
      "lat_3        41.161338   41.154039   41.156298   41.153859   41.148387\n",
      "\n",
      "RangeIndex(start=0, stop=5, step=1)\n"
     ]
    }
   ],
   "source": [
    "df_transposed = df.transpose()\r\n",
    "print(df_transposed)\r\n",
    "print()\r\n",
    "print(df_transposed.columns)"
   ]
  },
  {
   "cell_type": "code",
   "execution_count": 10,
   "metadata": {},
   "outputs": [
    {
     "data": {
      "text/html": [
       "<div>\n",
       "<style scoped>\n",
       "    .dataframe tbody tr th:only-of-type {\n",
       "        vertical-align: middle;\n",
       "    }\n",
       "\n",
       "    .dataframe tbody tr th {\n",
       "        vertical-align: top;\n",
       "    }\n",
       "\n",
       "    .dataframe thead th {\n",
       "        text-align: right;\n",
       "    }\n",
       "</style>\n",
       "<table border=\"1\" class=\"dataframe\">\n",
       "  <thead>\n",
       "    <tr style=\"text-align: right;\">\n",
       "      <th></th>\n",
       "      <th>0</th>\n",
       "    </tr>\n",
       "  </thead>\n",
       "  <tbody>\n",
       "    <tr>\n",
       "      <th>start_time</th>\n",
       "      <td>1372638303</td>\n",
       "    </tr>\n",
       "    <tr>\n",
       "      <th>lon_1</th>\n",
       "      <td>-8.587116</td>\n",
       "    </tr>\n",
       "    <tr>\n",
       "      <th>lat_1</th>\n",
       "      <td>41.162427</td>\n",
       "    </tr>\n",
       "    <tr>\n",
       "      <th>lon_2</th>\n",
       "      <td>-8.586198</td>\n",
       "    </tr>\n",
       "    <tr>\n",
       "      <th>lat_2</th>\n",
       "      <td>41.162112</td>\n",
       "    </tr>\n",
       "    <tr>\n",
       "      <th>lon_3</th>\n",
       "      <td>-8.585982</td>\n",
       "    </tr>\n",
       "    <tr>\n",
       "      <th>lat_3</th>\n",
       "      <td>41.161338</td>\n",
       "    </tr>\n",
       "  </tbody>\n",
       "</table>\n",
       "</div>"
      ],
      "text/plain": [
       "                     0\n",
       "start_time  1372638303\n",
       "lon_1        -8.587116\n",
       "lat_1        41.162427\n",
       "lon_2        -8.586198\n",
       "lat_2        41.162112\n",
       "lon_3        -8.585982\n",
       "lat_3        41.161338"
      ]
     },
     "execution_count": 10,
     "metadata": {},
     "output_type": "execute_result"
    }
   ],
   "source": [
    "col1 = df_transposed.iloc[:,0]\r\n",
    "col1\r\n",
    "\r\n",
    "df_col1 = df_transposed.take([0], axis=1)\r\n",
    "df_col1"
   ]
  },
  {
   "cell_type": "code",
   "execution_count": 11,
   "metadata": {},
   "outputs": [
    {
     "data": {
      "text/html": [
       "<div>\n",
       "<style scoped>\n",
       "    .dataframe tbody tr th:only-of-type {\n",
       "        vertical-align: middle;\n",
       "    }\n",
       "\n",
       "    .dataframe tbody tr th {\n",
       "        vertical-align: top;\n",
       "    }\n",
       "\n",
       "    .dataframe thead th {\n",
       "        text-align: right;\n",
       "    }\n",
       "</style>\n",
       "<table border=\"1\" class=\"dataframe\">\n",
       "  <thead>\n",
       "    <tr style=\"text-align: right;\">\n",
       "      <th></th>\n",
       "      <th>start_time</th>\n",
       "      <th>lon_1</th>\n",
       "      <th>lat_1</th>\n",
       "      <th>lon_2</th>\n",
       "      <th>lat_2</th>\n",
       "      <th>lon_3</th>\n",
       "      <th>lat_3</th>\n",
       "    </tr>\n",
       "  </thead>\n",
       "  <tbody>\n",
       "    <tr>\n",
       "      <th>0</th>\n",
       "      <td>1372638303</td>\n",
       "      <td>-8.587116</td>\n",
       "      <td>41.162427</td>\n",
       "      <td>-8.586198</td>\n",
       "      <td>41.162112</td>\n",
       "      <td>-8.585982</td>\n",
       "      <td>41.161338</td>\n",
       "    </tr>\n",
       "  </tbody>\n",
       "</table>\n",
       "</div>"
      ],
      "text/plain": [
       "   start_time      lon_1      lat_1      lon_2      lat_2      lon_3  \\\n",
       "0  1372638303  -8.587116  41.162427  -8.586198  41.162112  -8.585982   \n",
       "\n",
       "       lat_3  \n",
       "0  41.161338  "
      ]
     },
     "execution_count": 11,
     "metadata": {},
     "output_type": "execute_result"
    }
   ],
   "source": [
    "df_row1 = df.head(1)\r\n",
    "df_row1"
   ]
  },
  {
   "cell_type": "code",
   "execution_count": 12,
   "metadata": {},
   "outputs": [
    {
     "data": {
      "text/html": [
       "<div>\n",
       "<style scoped>\n",
       "    .dataframe tbody tr th:only-of-type {\n",
       "        vertical-align: middle;\n",
       "    }\n",
       "\n",
       "    .dataframe tbody tr th {\n",
       "        vertical-align: top;\n",
       "    }\n",
       "\n",
       "    .dataframe thead th {\n",
       "        text-align: right;\n",
       "    }\n",
       "</style>\n",
       "<table border=\"1\" class=\"dataframe\">\n",
       "  <thead>\n",
       "    <tr style=\"text-align: right;\">\n",
       "      <th></th>\n",
       "      <th>start_time</th>\n",
       "      <th>lon</th>\n",
       "      <th>lat</th>\n",
       "    </tr>\n",
       "  </thead>\n",
       "  <tbody>\n",
       "    <tr>\n",
       "      <th>0</th>\n",
       "      <td>1372638303</td>\n",
       "      <td>-8.587116</td>\n",
       "      <td>41.162427</td>\n",
       "    </tr>\n",
       "    <tr>\n",
       "      <th>1</th>\n",
       "      <td>1372638318</td>\n",
       "      <td>-8.586198</td>\n",
       "      <td>41.162112</td>\n",
       "    </tr>\n",
       "    <tr>\n",
       "      <th>2</th>\n",
       "      <td>1372638333</td>\n",
       "      <td>-8.585982</td>\n",
       "      <td>41.161338</td>\n",
       "    </tr>\n",
       "  </tbody>\n",
       "</table>\n",
       "</div>"
      ],
      "text/plain": [
       "   start_time        lon        lat\n",
       "0  1372638303  -8.587116  41.162427\n",
       "1  1372638318  -8.586198  41.162112\n",
       "2  1372638333  -8.585982  41.161338"
      ]
     },
     "execution_count": 12,
     "metadata": {},
     "output_type": "execute_result"
    }
   ],
   "source": [
    "data_plot = {   'start_time': [df_row1.start_time[0], int(df_row1.start_time)+15, int(df_row1.start_time)+30],\r\n",
    "                'lon'       : [df_row1.lon_1[0], df_row1.lon_2[0], df_row1.lon_3[0]],\r\n",
    "                'lat'       : [df_row1.lat_1[0], df_row1.lat_2[0], df_row1.lat_3[0]]\r\n",
    "        }\r\n",
    "df_plot = pd.DataFrame(data_plot)\r\n",
    "df_plot"
   ]
  },
  {
   "cell_type": "code",
   "execution_count": 13,
   "metadata": {},
   "outputs": [
    {
     "data": {
      "text/plain": [
       "Text(0.5, 0, 'Y_Gaze')"
      ]
     },
     "execution_count": 13,
     "metadata": {},
     "output_type": "execute_result"
    },
    {
     "data": {
      "image/png": "[encoded data removed]",
      "text/plain": [
       "<Figure size 1080x576 with 1 Axes>"
      ]
     },
     "metadata": {
      "needs_background": "light"
     },
     "output_type": "display_data"
    }
   ],
   "source": [
    "DF0 = pd.DataFrame(np.random.uniform(0,100,(4,2)), columns=['x', 'y'])  \r\n",
    "pupil_rads = pd.Series(np.random.randint(1,10,(4)))  \r\n",
    "#pupil^2 otherwise we won't see much of a difference in markersize\r\n",
    "DF0[\"pupil_radius\"] = np.square(pupil_rads)\r\n",
    "\r\n",
    "gph = plt.figure(figsize=(15,8)).gca(projection='3d')\r\n",
    "#plotting red dotted lines with tiny markers\r\n",
    "gph.plot(DF0.index, DF0.x, DF0.y)\r\n",
    "\r\n",
    "gph.set_xlabel('Time Stamp')\r\n",
    "gph.set_ylabel('X_Gaze')\r\n",
    "gph.set_zlabel('Y_Gaze')"
   ]
  },
  {
   "cell_type": "code",
   "execution_count": 14,
   "metadata": {},
   "outputs": [
    {
     "data": {
      "text/html": [
       " <style>\n",
       ".output_png {\n",
       "    display: table-cell;\n",
       "    text-align: center;\n",
       "    vertical-align: middle;\n",
       "}\n",
       "</style> "
      ],
      "text/plain": [
       "<IPython.core.display.HTML object>"
      ]
     },
     "execution_count": 14,
     "metadata": {},
     "output_type": "execute_result"
    }
   ],
   "source": [
    "from IPython.core.display import HTML as Center\r\n",
    "\r\n",
    "Center(\"\"\" <style>\r\n",
    ".output_png {\r\n",
    "    display: table-cell;\r\n",
    "    text-align: center;\r\n",
    "    vertical-align: middle;\r\n",
    "}\r\n",
    "</style> \"\"\")"
   ]
  },
  {
   "cell_type": "code",
   "execution_count": 18,
   "metadata": {},
   "outputs": [
    {
     "name": "stdout",
     "output_type": "stream",
     "text": [
      "[-8.587116 -8.586198 -8.585982]\n",
      "[41.162426 41.162113 41.16134 ]\n",
      "[1.3726383e+09 1.3726383e+09 1.3726383e+09]\n"
     ]
    },
    {
     "data": {
      "text/plain": [
       "Text(0.5, 0, 'Time')"
      ]
     },
     "execution_count": 18,
     "metadata": {},
     "output_type": "execute_result"
    },
    {
     "data": {
      "image/png": "[encoded data removed]",
      "text/plain": [
       "<Figure size 1080x576 with 1 Axes>"
      ]
     },
     "metadata": {
      "needs_background": "light"
     },
     "output_type": "display_data"
    }
   ],
   "source": [
    "gph = plt.figure(figsize=(15,8)).gca(projection='3d')\r\n",
    "# gph.scatter(DF0.index, DF0['x'], DF0['y'])\r\n",
    "\r\n",
    "lon = np.array(df_plot.lon, dtype=np.float32)\r\n",
    "print(lon)\r\n",
    "lat = np.array(df_plot.lat, dtype=np.float32)\r\n",
    "print(lat)\r\n",
    "time = np.array(df_plot.start_time, dtype=np.float32)\r\n",
    "print(time)\r\n",
    "\r\n",
    "gph.plot3D(lon, lat, time)\r\n",
    "\r\n",
    "gph.set_ylabel('Longitude')\r\n",
    "gph.set_xlabel('Latitude')\r\n",
    "gph.set_zlabel('Time')\r\n"
   ]
  },
  {
   "cell_type": "code",
   "execution_count": 16,
   "metadata": {},
   "outputs": [
    {
     "name": "stdout",
     "output_type": "stream",
     "text": [
      "10.730629891298685\n"
     ]
    }
   ],
   "source": [
    "def cal_dis(lat_1,lon_1,lat_2,lon_2):\r\n",
    "    lon_1 = lon_1 * math.pi / 180\r\n",
    "    lat_1 = lat_1 * math.pi / 180\r\n",
    "    lon_2 = lon_2 * math.pi / 180\r\n",
    "    lat_2 = lat_2 * math.pi / 180\r\n",
    "    a = abs(lat_1 - lat_2)\r\n",
    "    b = abs(lon_1 - lon_2)\r\n",
    "    d = 2 * 6378.137 * np.arcsin(\r\n",
    "        np.sqrt(np.sin(a / 2) * np.sin(a / 2) + np.cos(lat_1) * np.cos(lat_2) * np.sin(b / 2) * np.sin(b / 2)))\r\n",
    "    return d\r\n",
    "\r\n",
    "map_size = cal_dis(lat_1=41.14478, lon_1=-8.69346, lat_2=41.18652, lon_2=-8.57804)\r\n",
    "print(map_size)"
   ]
  }
 ],
 "metadata": {
  "interpreter": {
   "hash": "1c35890af6546d53612dbbaee5299eb5317a22b4a3fdfcf75b2a3db2885fda46"
  },
  "kernelspec": {
   "display_name": "Python 3.8.3 64-bit",
   "name": "python3"
  },
  "language_info": {
   "codemirror_mode": {
    "name": "ipython",
    "version": 3
   },
   "file_extension": ".py",
   "mimetype": "text/x-python",
   "name": "python",
   "nbconvert_exporter": "python",
   "pygments_lexer": "ipython3",
   "version": "3.8.3"
  },
  "orig_nbformat": 4
 },
 "nbformat": 4,
 "nbformat_minor": 2
}