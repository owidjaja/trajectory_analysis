{
 "cells": [
  {
   "cell_type": "code",
   "execution_count": null,
   "source": [
    "import pandas as pd\r\n",
    "from sklearn.datasets import load_digits\r\n",
    "digits = load_digits()\r\n",
    "dir(digits)"
   ],
   "outputs": [],
   "metadata": {}
  },
  {
   "cell_type": "code",
   "execution_count": null,
   "source": [
    "%matplotlib inline\r\n",
    "import matplotlib.pyplot as plt\r\n",
    "plt.gray()\r\n",
    "for i in range(5):\r\n",
    "    plt.matshow(digits.images[i])"
   ],
   "outputs": [],
   "metadata": {}
  },
  {
   "cell_type": "code",
   "execution_count": null,
   "source": [
    "df = pd.DataFrame(digits.data)\r\n",
    "df.head()"
   ],
   "outputs": [],
   "metadata": {}
  },
  {
   "cell_type": "code",
   "execution_count": null,
   "source": [
    "print(digits.target)\r\n",
    "df['target'] = digits.target\r\n",
    "df.head()"
   ],
   "outputs": [],
   "metadata": {}
  },
  {
   "cell_type": "code",
   "execution_count": null,
   "source": [
    "from sklearn.model_selection import train_test_split\r\n",
    "\r\n",
    "# 80% training data, 20% test data\r\n",
    "# X is df without target, y with target (truth)\r\n",
    "X_train, X_test, y_train, y_test = train_test_split(df.drop(['target'],axis='columns'), digits.target, test_size=0.2)\r\n",
    "\r\n",
    "# X_train is the training data, X_test is testing data\r\n",
    "print(len(X_train))\r\n",
    "print(len(X_test))"
   ],
   "outputs": [],
   "metadata": {}
  },
  {
   "cell_type": "code",
   "execution_count": null,
   "source": [
    "from sklearn.ensemble import RandomForestClassifier\r\n",
    "model = RandomForestClassifier(n_estimators=25)\r\n",
    "\r\n",
    "# training step, see if x dataset can predict correctly to truth in y\r\n",
    "model.fit(X_train, y_train)\r\n",
    "\r\n",
    "model.get_params()\r\n",
    "# n_estimators is how many random trees\r\n"
   ],
   "outputs": [],
   "metadata": {}
  },
  {
   "cell_type": "code",
   "execution_count": null,
   "source": [
    "# prediction step, then return accuracy\r\n",
    "model.score(X_test, y_test)"
   ],
   "outputs": [],
   "metadata": {}
  },
  {
   "cell_type": "code",
   "execution_count": null,
   "source": [
    "# prediction step to compare in confusion matrix\r\n",
    "y_predicted = model.predict(X_test)\r\n",
    "\r\n",
    "from sklearn.metrics import confusion_matrix\r\n",
    "cm = confusion_matrix(y_test, y_predicted)"
   ],
   "outputs": [],
   "metadata": {}
  },
  {
   "cell_type": "code",
   "execution_count": null,
   "source": [
    "%matplotlib inline\r\n",
    "import matplotlib.pyplot as plot\r\n",
    "import seaborn as sn\r\n",
    "plt.figure(figsize=(10,7))\r\n",
    "sn.heatmap(cm, annot=True)\r\n",
    "plot.xlabel('Predicted')\r\n",
    "plot.ylabel('Truth')"
   ],
   "outputs": [],
   "metadata": {}
  }
 ],
 "metadata": {
  "orig_nbformat": 4,
  "language_info": {
   "name": "python"
  }
 },
 "nbformat": 4,
 "nbformat_minor": 2
}